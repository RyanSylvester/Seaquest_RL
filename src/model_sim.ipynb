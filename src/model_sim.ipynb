{
 "cells": [
  {
   "cell_type": "code",
   "execution_count": 13,
   "metadata": {},
   "outputs": [],
   "source": [
    "import gymnasium\n",
    "import numpy as np\n",
    "import random\n",
    "import tensorflow as tf"
   ]
  },
  {
   "cell_type": "code",
   "execution_count": null,
   "metadata": {},
   "outputs": [],
   "source": [
    "env = gymnasium.make(\"ALE/Seaquest-v5\", render_mode=\"human\")"
   ]
  },
  {
   "attachments": {},
   "cell_type": "markdown",
   "metadata": {},
   "source": [
    "### Seeing the agent in action"
   ]
  },
  {
   "attachments": {},
   "cell_type": "markdown",
   "metadata": {},
   "source": [
    "First, lets take a moment and visualize how the model performs at a completely untrained state. This simulation will demonstrate just how much the agent improved over time."
   ]
  },
  {
   "attachments": {},
   "cell_type": "markdown",
   "metadata": {},
   "source": [
    "##### Untrained Model"
   ]
  },
  {
   "cell_type": "code",
   "execution_count": null,
   "metadata": {},
   "outputs": [],
   "source": [
    "\n",
    "observation, info = env.reset(seed=1)\n",
    "for _ in range(1000):\n",
    "    action = env.action_space.sample()\n",
    "    observation, reward, terminated, truncated, info = env.step(action)\n",
    "\n",
    "    if terminated or truncated:\n",
    "      observation, info = env.reset()\n",
    "        \n",
    "\n",
    "env.close()"
   ]
  },
  {
   "attachments": {},
   "cell_type": "markdown",
   "metadata": {},
   "source": [
    "##### Trained Model\n",
    "\n",
    "Lets create a model and upload the weights from our trained model. We can bake these in with Tensorflow's save_weights() during training, then we can bring them back with load_weights(), which we will do now."
   ]
  },
  {
   "cell_type": "code",
   "execution_count": null,
   "metadata": {},
   "outputs": [],
   "source": [
    "def create_model(input_shape, output_classes):\n",
    "    \"\"\"\n",
    "    - Network\n",
    "        - input: 84x84x4\n",
    "        - conv1: 32 filters of 8x8 with stride 4 rectifier nonlinearly\n",
    "        - conv2: 64 filters of 4x4 with stride 2 rectifier nonlinearly\n",
    "        - conv3: 64 filters of 3x3 with stride 1 rectifier\n",
    "        - dense 512 rectifier units\n",
    "        - output: action space\n",
    "    \"\"\"\n",
    "\n",
    "    model = tf.keras.models.Sequential([\n",
    "        tf.keras.layers.Conv2D(32, (8,8), strides=4, activation='relu', input_shape=input_shape),\n",
    "        tf.keras.layers.Conv2D(64, (4,4), strides=2, activation='relu'),\n",
    "        tf.keras.layers.Conv2D(64, (3,3), strides=1, activation='relu'),\n",
    "        tf.keras.layers.Flatten(),\n",
    "        tf.keras.layers.Dense(512, activation='relu'),\n",
    "        tf.keras.layers.Dense(output_classes)\n",
    "    ])\n",
    "\n",
    "    return model"
   ]
  },
  {
   "cell_type": "code",
   "execution_count": null,
   "metadata": {},
   "outputs": [],
   "source": [
    "model = create_model((84,84,1), env.action_space.n)\n",
    "model.load_weights('./saved_models/double_dqn/sequest_target_action_value_network_ep40')"
   ]
  },
  {
   "attachments": {},
   "cell_type": "markdown",
   "metadata": {},
   "source": [
    "##### Visualising the trained agent"
   ]
  },
  {
   "cell_type": "code",
   "execution_count": null,
   "metadata": {},
   "outputs": [],
   "source": [
    "\n",
    "\n",
    "# observation, info = env.reset(seed=1)\n",
    "# for _ in range(1000):\n",
    "#     action = env.action_space.n\n",
    "#     next_state, reward, terminated, truncated, info = env.step(action)\n",
    "    \n",
    "#     if terminated or truncated:\n",
    "#         observation, info = env.reset()\n",
    "        \n",
    "# env.close"
   ]
  }
 ],
 "metadata": {
  "kernelspec": {
   "display_name": "Python 3 (ipykernel)",
   "language": "python",
   "name": "python3"
  },
  "language_info": {
   "codemirror_mode": {
    "name": "ipython",
    "version": 3
   },
   "file_extension": ".py",
   "mimetype": "text/x-python",
   "name": "python",
   "nbconvert_exporter": "python",
   "pygments_lexer": "ipython3",
   "version": "3.9.7"
  },
  "orig_nbformat": 4
 },
 "nbformat": 4,
 "nbformat_minor": 2
}
